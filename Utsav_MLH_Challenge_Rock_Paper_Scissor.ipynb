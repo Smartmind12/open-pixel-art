{
  "nbformat": 4,
  "nbformat_minor": 0,
  "metadata": {
    "colab": {
      "name": "Utsav MLH Challenge Rock Paper Scissor.ipynb",
      "provenance": [],
      "authorship_tag": "ABX9TyNSMBThg/byJV/WGpOUHxnp",
      "include_colab_link": true
    },
    "kernelspec": {
      "name": "python3",
      "display_name": "Python 3"
    },
    "language_info": {
      "name": "python"
    }
  },
  "cells": [
    {
      "cell_type": "markdown",
      "metadata": {
        "id": "view-in-github",
        "colab_type": "text"
      },
      "source": [
        "<a href=\"https://colab.research.google.com/github/Smartmind12/open-pixel-art/blob/master/Utsav_MLH_Challenge_Rock_Paper_Scissor.ipynb\" target=\"_parent\"><img src=\"https://colab.research.google.com/assets/colab-badge.svg\" alt=\"Open In Colab\"/></a>"
      ]
    },
    {
      "cell_type": "code",
      "source": [
        "import random\n",
        "#Code for Selection of Choice by Player1 and Computer chooses randomly:\n",
        "while True:\n",
        "    player1_select = input(\"Player 1 Selection (Paper, Scissors or Rock): \")\n",
        "    possible_actions = [\"rock\", \"paper\", \"scissors\"]\n",
        "    #Computer selects randomly out of the 3 options of the game\n",
        "    computer_select = random.choice(possible_actions)\n",
        "    #Shoutout of the Player 1 and Computer Choice to understand Which player chose which Action\n",
        "    print(f\"\\nYour choice is: {player1_select} while Computer choice is: {computer_action}.\\n\")\n",
        "\n",
        "#Tie is declared if both players chose the same Action\n",
        "    if player1_select == computer_select:\n",
        "        print(f\"It is a DRAW! Both players chose to go for: {player1_select}. \")\n",
        "#If Player 1 Selects Rock then against it either Paper wins or Scissor loses    \n",
        "    elif player1_select == \"rock\":\n",
        "        if computer_select == \"scissors\":\n",
        "            print(\"You are the WINNER! Scissor is smashed by Rock.\")\n",
        "        else:\n",
        "            print(\"You are the LOSER! Rock is covered by Paper.\")\n",
        "#If Player 1 Selects Paper then against it either Scissor wins or Rock loses\n",
        "    elif player1_select == \"paper\":\n",
        "        if computer_select == \"rock\":\n",
        "            print(\"You are the WINNER! Rock is covered by Paper.\")\n",
        "        else:\n",
        "            print(\"You are the LOSER! Paper is cut by Scissors.\")\n",
        "#If Player 1 Selects Scissors then against it either Rock wins or Paper loses\n",
        "    elif player1_select == \"scissors\":\n",
        "        if computer_select == \"paper\":\n",
        "            print(\"You are the WINNER! Paper is cut by Scissors.\")\n",
        "        else:\n",
        "            print(\"You are the LOSER! Scissor is smashed by Rock.\")\n",
        "#To Play Several Rows of Games Player1 Selects to play again or not\n",
        "    play_again = input(\"Would you like to Play again? (yes/no): \")\n",
        "    if play_again.lower() != \"yes\":\n",
        "        break"
      ],
      "metadata": {
        "colab": {
          "base_uri": "https://localhost:8080/"
        },
        "id": "pJBESnUyaGo1",
        "outputId": "480e465a-a85c-424a-f5b7-364f6e483ba6"
      },
      "execution_count": 11,
      "outputs": [
        {
          "name": "stdout",
          "output_type": "stream",
          "text": [
            "Player 1 Selection (Paper, Scissors or Rock): rock\n",
            "\n",
            "Your choice is: rock while Computer choice is: rock.\n",
            "\n",
            "You are the LOSER! Rock is covered by Paper.\n",
            "Would you like to Play again? (yes/no): yes\n",
            "Player 1 Selection (Paper, Scissors or Rock): scissors\n",
            "\n",
            "Your choice is: scissors while Computer choice is: rock.\n",
            "\n",
            "You are the WINNER! Paper is cut by Scissors.\n",
            "Would you like to Play again? (yes/no): no\n"
          ]
        }
      ]
    }
  ]
}